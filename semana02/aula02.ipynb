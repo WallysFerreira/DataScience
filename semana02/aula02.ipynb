{
 "cells": [
  {
   "cell_type": "markdown",
   "metadata": {},
   "source": [
    "## Inteiros"
   ]
  },
  {
   "cell_type": "code",
   "execution_count": 11,
   "metadata": {},
   "outputs": [
    {
     "name": "stdout",
     "output_type": "stream",
     "text": [
      "10\n",
      "23\n",
      "255\n"
     ]
    }
   ],
   "source": [
    "a = 0b1010\n",
    "b = 0o27\n",
    "c = 0xFF\n",
    "\n",
    "print(a)\n",
    "print(b)\n",
    "print(c)"
   ]
  },
  {
   "cell_type": "markdown",
   "metadata": {},
   "source": [
    "## Float"
   ]
  },
  {
   "cell_type": "code",
   "execution_count": 10,
   "metadata": {},
   "outputs": [
    {
     "name": "stdout",
     "output_type": "stream",
     "text": [
      "0.012\n",
      "103000.0\n"
     ]
    }
   ],
   "source": [
    "x = 1.20e-2\n",
    "y = 1.03e5\n",
    "\n",
    "print(x)\n",
    "print(y)"
   ]
  },
  {
   "cell_type": "markdown",
   "metadata": {},
   "source": [
    "## Bool"
   ]
  },
  {
   "cell_type": "code",
   "execution_count": 19,
   "metadata": {},
   "outputs": [
    {
     "name": "stdout",
     "output_type": "stream",
     "text": [
      "False\n",
      "False\n",
      "True\n",
      "False\n"
     ]
    }
   ],
   "source": [
    "# Boolean operators\n",
    "\n",
    "print(not True)\n",
    "print(True and False)\n",
    "print(True or False)"
   ]
  },
  {
   "cell_type": "code",
   "execution_count": 22,
   "metadata": {},
   "outputs": [
    {
     "name": "stdout",
     "output_type": "stream",
     "text": [
      "False\n",
      "True\n",
      "False\n"
     ]
    }
   ],
   "source": [
    "# Bitwise operators\n",
    "\n",
    "print(True & False)\n",
    "print(True | False)\n",
    "print(True ^ True)"
   ]
  },
  {
   "cell_type": "markdown",
   "metadata": {},
   "source": [
    "## None Type"
   ]
  },
  {
   "cell_type": "code",
   "execution_count": 23,
   "metadata": {},
   "outputs": [
    {
     "data": {
      "text/plain": [
       "NoneType"
      ]
     },
     "execution_count": 23,
     "metadata": {},
     "output_type": "execute_result"
    }
   ],
   "source": [
    "type(None)"
   ]
  },
  {
   "cell_type": "markdown",
   "metadata": {},
   "source": [
    "## String"
   ]
  },
  {
   "cell_type": "code",
   "execution_count": 31,
   "metadata": {},
   "outputs": [
    {
     "name": "stdout",
     "output_type": "stream",
     "text": [
      "Oi\n",
      "Oi\n",
      "Oi\n",
      "'Oi'\n",
      "<class 'str'>\n",
      "<class 'str'>\n"
     ]
    }
   ],
   "source": [
    "print('Oi')\n",
    "print(\"Oi\")\n",
    "print('''Oi''')\n",
    "print(\"'Oi'\")\n",
    "\n",
    "print(type(\"Oi\"))\n",
    "print(type('Oi'))"
   ]
  },
  {
   "cell_type": "code",
   "execution_count": 36,
   "metadata": {},
   "outputs": [
    {
     "name": "stdout",
     "output_type": "stream",
     "text": [
      "Nome: Teste da Silva, Idade: 26\n",
      "Meu nome comeca com a letra T\n",
      "Meu nome em caixa alta TESTE DA SILVA\n",
      "Meu primeiro nome é Teste\n"
     ]
    }
   ],
   "source": [
    "nome = \"Teste da Silva\"\n",
    "idade = \"26\"\n",
    "\n",
    "print (\"Nome: %s, Idade: %s\" % (nome, idade))\n",
    "print (\"Meu nome comeca com a letra\", nome[0])\n",
    "print (\"Meu nome em caixa alta\", nome.upper())\n",
    "print (\"Meu primeiro nome é\", nome.split(' ')[0])"
   ]
  },
  {
   "cell_type": "markdown",
   "metadata": {},
   "source": [
    "## Entrada de Dados no Python"
   ]
  },
  {
   "cell_type": "markdown",
   "metadata": {},
   "source": [
    "Desafio da Calculadora de IMC"
   ]
  },
  {
   "cell_type": "code",
   "execution_count": 48,
   "metadata": {},
   "outputs": [
    {
     "name": "stdout",
     "output_type": "stream",
     "text": [
      "26.26\n"
     ]
    }
   ],
   "source": [
    "altura = float(input(\"Sua altura em metros:\"))\n",
    "peso = float(input(\"Seu peso em kg:\"))\n",
    "\n",
    "imc = round(peso / altura ** 2, ndigits=2)\n",
    "\n",
    "print(imc)"
   ]
  },
  {
   "cell_type": "markdown",
   "metadata": {},
   "source": [
    "## Condicionais"
   ]
  },
  {
   "cell_type": "code",
   "execution_count": 47,
   "metadata": {},
   "outputs": [
    {
     "name": "stdout",
     "output_type": "stream",
     "text": [
      "Ta gordin\n"
     ]
    }
   ],
   "source": [
    "if imc <= 18.5:\n",
    "    print(\"Ta maguin\")\n",
    "elif 18.5<imc<24.9:\n",
    "    print(\"Ta dibas\")\n",
    "elif 25<imc<29.9:\n",
    "    print(\"Ta gordin\")\n",
    "elif 30<imc<39.9:\n",
    "    print(\"Ta gordao\")\n",
    "elif imc >= 40:\n",
    "    print(\"Ta super gordao\")"
   ]
  }
 ],
 "metadata": {
  "kernelspec": {
   "display_name": "venv",
   "language": "python",
   "name": "python3"
  },
  "language_info": {
   "codemirror_mode": {
    "name": "ipython",
    "version": 3
   },
   "file_extension": ".py",
   "mimetype": "text/x-python",
   "name": "python",
   "nbconvert_exporter": "python",
   "pygments_lexer": "ipython3",
   "version": "3.10.13"
  }
 },
 "nbformat": 4,
 "nbformat_minor": 2
}
